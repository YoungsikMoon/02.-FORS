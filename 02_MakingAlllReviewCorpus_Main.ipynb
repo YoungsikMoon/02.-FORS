{
  "nbformat": 4,
  "nbformat_minor": 0,
  "metadata": {
    "colab": {
      "provenance": []
    },
    "kernelspec": {
      "name": "python3",
      "display_name": "Python 3"
    },
    "language_info": {
      "name": "python"
    }
  },
  "cells": [
    {
      "cell_type": "code",
      "execution_count": null,
      "metadata": {
        "id": "vffN3xk4NU5X",
        "colab": {
          "base_uri": "https://localhost:8080/"
        },
        "outputId": "aa293618-793a-40f5-cc11-b12f38c631eb"
      },
      "outputs": [
        {
          "output_type": "stream",
          "name": "stderr",
          "text": [
            "<ipython-input-11-f66698704119>:3: DtypeWarning: Columns (3,4,5,7,12) have mixed types. Specify dtype option on import or set low_memory=False.\n",
            "  review_data = pd.read_csv('/content/boom_final.csv') #결측치 제거된 데이터 업로드 후 읽음 \"봄툰csv 디렉터리의 dr\"\n"
          ]
        },
        {
          "output_type": "stream",
          "name": "stdout",
          "text": [
            "데이터 개수: 73335\n"
          ]
        }
      ],
      "source": [
        "import pandas as pd\n",
        "\n",
        "review_data = pd.read_csv('/content/boom_final.csv') #결측치 제거된 데이터 업로드 후 읽음 \"봄툰csv 디렉터리의 dr\"\n",
        "review_data.head() #불러온 데이터 빠르게 확인\n",
        "\n",
        "print('데이터 개수: {}'.format(len(review_data)))\n",
        "\n",
        "# 문자열 아닌 데이터 모두 제거\n",
        "review_data = [review for review in review_data['댓글'] if type(review) is str]\n",
        "\n",
        "# 리스트를 DataFrame으로 변환\n",
        "review_df = pd.DataFrame({'댓글': review_data})\n",
        "\n",
        "# CSV 파일로 내보내기\n",
        "review_df.to_csv('AllReviewCorpus.csv', index=False)\n",
        "\n",
        "# XLSX 파일로 내보내기 (openpyxl 라이브러리가 필요할 수 있습니다)\n",
        "review_df.to_excel('AllReviewCorpus.xlsx', index=False)"
      ]
    }
  ]
}
