{
  "nbformat": 4,
  "nbformat_minor": 0,
  "metadata": {
    "colab": {
      "provenance": [],
      "authorship_tag": "ABX9TyPaWZbuEgbab6xDL6h0y/kX",
      "include_colab_link": true
    },
    "kernelspec": {
      "name": "python3",
      "display_name": "Python 3"
    },
    "language_info": {
      "name": "python"
    }
  },
  "cells": [
    {
      "cell_type": "markdown",
      "metadata": {
        "id": "view-in-github",
        "colab_type": "text"
      },
      "source": [
        "<a href=\"https://colab.research.google.com/github/YoungsikMoon/FORS/blob/main/%EB%AC%B8%EC%98%81%EC%8B%9D/FORS_%EB%AC%B8%EC%98%81%EC%8B%9D.ipynb\" target=\"_parent\"><img src=\"https://colab.research.google.com/assets/colab-badge.svg\" alt=\"Open In Colab\"/></a>"
      ]
    },
    {
      "cell_type": "markdown",
      "source": [
        "# PCM 파일 핸들링 코드 모음"
      ],
      "metadata": {
        "id": "BSPvRMB7zxNo"
      }
    },
    {
      "cell_type": "markdown",
      "source": [
        "참고 : https://noggame.tistory.com/15"
      ],
      "metadata": {
        "id": "8yM5lSw3lGYY"
      }
    },
    {
      "cell_type": "markdown",
      "source": [
        "## pcm을 wav로 변환하는 코드"
      ],
      "metadata": {
        "id": "Va1TEh5d3J69"
      }
    },
    {
      "cell_type": "markdown",
      "source": [
        "PCM 데이터를 WAV로 변환하려는 경우 WAV 파일이 어떻게 쓰였는지 나타내는 Header가 필요하다. Header에는 samplerate나 소리 데이터의 길이 등의 정보가 들어가며, 직접 구현하기보다는 numpy, librosa, soundfile 등의 라이브러리를 사용하면 간단히 해결 가능하다."
      ],
      "metadata": {
        "id": "G2wf4yXo3YmC"
      }
    },
    {
      "cell_type": "code",
      "execution_count": null,
      "metadata": {
        "id": "3vnZltD4vWnc"
      },
      "outputs": [],
      "source": [
        "import numpy as np\n",
        "import librosa as lr\n",
        "import soundfile as sf\n",
        "\n",
        "target = \"/content/KsponSpeech_000001.pcm\" # 타깃 파일 경로\n",
        "destinationPath = \"/content/KsponSpeech_000001.wav\" #만들 파일 경로\n",
        "buf = None\n",
        "\n",
        "with open(target, 'rb') as tf:\n",
        "    buf = tf.read()\n",
        "    buf = buf+b'0' if len(buf)%2 else buf    # padding 0 (경우에 따라서 PCM 파일의 길이가 8bit[1byte]로 나누어 떨어지지 않는 경우가 있어 0으로 패딩값을 더해준다, 해당 처리를 하지 않는 경우 numpy나 librosa 라이브러리 사용 시 오류가 날 수 있다)\n",
        "\n",
        "pcm_data = np.frombuffer(buf, dtype='int16')\n",
        "wav_data = lr.util.buf_to_float(x=pcm_data, n_bytes=2)\n",
        "sf.write(destinationPath, wav_data, 16000, format='WAV', endian='LITTLE', subtype='PCM_16')"
      ]
    },
    {
      "cell_type": "markdown",
      "source": [
        "## wav 파일을 pcm 으로 변환하는 코드"
      ],
      "metadata": {
        "id": "0RPm0uUA3fo4"
      }
    },
    {
      "cell_type": "markdown",
      "source": [
        "PCM과 WAV의 소리 데이터 부분은 동일하고, Header 부분만 차이가 나므로 WAV 파일에서 (Header를 제외한) 데이터 부분만 읽어서 파일로 만들면 PCM 파일에 해당한다."
      ],
      "metadata": {
        "id": "te0Wut9j3jUi"
      }
    },
    {
      "cell_type": "code",
      "source": [
        "target = \"{대상파일_경로}\"\n",
        "destinationPath = target[:-4]+\".pcm\" # {생성파일경로}\n",
        "buf = None\n",
        "\n",
        "with open(destinationPath, \"wb\") as d_file:\n",
        "    t_file = open(target, \"rb\")\n",
        "    t_bin = t_file.read()\n",
        "    d_file.write(t_bin[44:])    # header 이외의 데이터를 pcm 파일로 저장\n",
        "    t_file.close()"
      ],
      "metadata": {
        "id": "yLEEiO-z3lvc"
      },
      "execution_count": null,
      "outputs": []
    },
    {
      "cell_type": "markdown",
      "source": [
        "## pcm 파일 통합 하는 코드"
      ],
      "metadata": {
        "id": "6Kyp5nys3Phx"
      }
    },
    {
      "cell_type": "markdown",
      "source": [
        "PCM은 파일의 시작에 소리 정보를 담고있는 header가 존재하지 않기 때문에, raw 데이터(Byte Code)를 그대로 읽어서 합치면된다."
      ],
      "metadata": {
        "id": "DlAgEc_u3T2_"
      }
    },
    {
      "cell_type": "code",
      "source": [
        "targetList = [\"{대상파일1_경로}\", \"{대상파일2_경로}\"]\n",
        "destinationPath = \"{생성파일경로}\"\n",
        "\n",
        "buf = bytearray()\n",
        "for file in targetList:\n",
        "    f = open(file, 'rb')\n",
        "    buf += f.read()\n",
        "    f.close()\n",
        "\n",
        "wf = open(destinationPath, 'wb')\n",
        "wf.write(buf)\n",
        "wf.close()"
      ],
      "metadata": {
        "id": "iAspxFVq3Rlx"
      },
      "execution_count": null,
      "outputs": []
    },
    {
      "cell_type": "markdown",
      "source": [
        "\n",
        "\n",
        "---\n",
        "\n"
      ],
      "metadata": {
        "id": "2heEAzdd4mqP"
      }
    },
    {
      "cell_type": "markdown",
      "source": [
        "# OpenAI WhisperAI STT (오래걸림)"
      ],
      "metadata": {
        "id": "Y7Vzc5Rl34TO"
      }
    },
    {
      "cell_type": "markdown",
      "source": [
        "위스퍼 설치"
      ],
      "metadata": {
        "id": "mNMys_Cb3_qw"
      }
    },
    {
      "cell_type": "code",
      "source": [
        "pip install openai-whisper"
      ],
      "metadata": {
        "id": "PXtGSoRn4HPA"
      },
      "execution_count": null,
      "outputs": []
    },
    {
      "cell_type": "markdown",
      "source": [
        "한국어 모델 다운로드하기"
      ],
      "metadata": {
        "id": "2DcnomBi4RUL"
      }
    },
    {
      "cell_type": "code",
      "source": [
        "!whisper-cli --model ko --download-dir ."
      ],
      "metadata": {
        "id": "gGFhiDDv4J78"
      },
      "execution_count": null,
      "outputs": []
    },
    {
      "cell_type": "markdown",
      "source": [
        "음성 파일 변환하기\n",
        "\n",
        "변환할 한국어 음성 파일을 준비합니다.\n",
        "다음 Python 코드를 실행하여 음성 파일을 텍스트로 변환합니다:"
      ],
      "metadata": {
        "id": "2-zi2Pmw4Shj"
      }
    },
    {
      "cell_type": "code",
      "source": [
        "import whisper\n",
        "\n",
        "# 모델 로드\n",
        "model = whisper.load_model(\"small\")\n"
      ],
      "metadata": {
        "id": "IeWSlvU94ZOs"
      },
      "execution_count": null,
      "outputs": []
    },
    {
      "cell_type": "markdown",
      "source": [
        "결과 확인하기\n",
        "\n",
        "위 코드를 실행하면 음성 파일의 텍스트 인식 결과가 출력됩니다.\n",
        "인식 결과는 result['text']에 저장됩니다.\n",
        "\n",
        "OpenAI Whisper는 다양한 언어를 지원하며, 특히 한국어 모델의 성능이 우수합니다. 이를 활용하면 다양한 음성 기반 애플리케이션을 개발할 수 있습니다.\n",
        "\n",
        "추가로, Whisper는 다음과 같은 특징이 있습니다:\n",
        "\n",
        "지원 언어: 총 98개 언어 지원 (한국어 포함)\n",
        "\n",
        "모델 크기: 작은 모델부터 대형 모델까지 다양한 옵션 제공\n",
        "\n",
        "사용 요금: 무료로 사용 가능\n",
        "\n",
        "---\n",
        "\n"
      ],
      "metadata": {
        "id": "jUo2zqF54g3v"
      }
    },
    {
      "cell_type": "code",
      "source": [
        "\n",
        "# 음성 파일 경로 설정\n",
        "audio_file = \"/content/KsponSpeech_000001.wav\"\n",
        "\n",
        "# 음성 파일 변환\n",
        "result = model.transcribe(audio_file)\n",
        "print(f\"인식 결과: {result['text']}\")"
      ],
      "metadata": {
        "id": "XsW_vqAe55Zr"
      },
      "execution_count": null,
      "outputs": []
    },
    {
      "cell_type": "markdown",
      "source": [
        "\n",
        "\n",
        "---\n",
        "\n"
      ],
      "metadata": {
        "id": "Zw6EDoIBlMs5"
      }
    },
    {
      "cell_type": "markdown",
      "source": [
        "# NVIDIA NeMo STT (1초)"
      ],
      "metadata": {
        "id": "xM9_wFVTlNXX"
      }
    },
    {
      "cell_type": "markdown",
      "source": [
        "https://huggingface.co/eesungkim/stt_kr_conformer_transducer_large"
      ],
      "metadata": {
        "id": "OHv83v4rlQF4"
      }
    },
    {
      "cell_type": "markdown",
      "source": [
        "모델을 훈련하고, 미세 조정하고, 플레이하려면 NVIDIA NeMo를 설치해야 합니다 . 최신 Pytorch 버전을 설치한 후 설치하는 것이 좋습니다."
      ],
      "metadata": {
        "id": "6cgkkStP7uTo"
      }
    },
    {
      "cell_type": "code",
      "source": [
        "!pip install nemo_toolkit['all']"
      ],
      "metadata": {
        "id": "YF79GRhW69L3"
      },
      "execution_count": null,
      "outputs": []
    },
    {
      "cell_type": "markdown",
      "source": [
        "이 모델은 NeMo 툴킷[1](https://github.com/NVIDIA/NeMo)에서 사용할 수 있으며 추론을 위해 사전 훈련된 체크포인트로 사용하거나 다른 데이터 세트에 대한 미세 조정을 수행할 수 있습니다.\n"
      ],
      "metadata": {
        "id": "co1pUE467xLI"
      }
    },
    {
      "cell_type": "markdown",
      "source": [
        "자동으로 모델 인스턴스화"
      ],
      "metadata": {
        "id": "_YHR4nzD78Ft"
      }
    },
    {
      "cell_type": "code",
      "source": [
        "import nemo.collections.asr as nemo_asr\n",
        "asr_model = nemo_asr.models.ASRModel.from_pretrained(\"eesungkim/stt_kr_conformer_transducer_large\")"
      ],
      "metadata": {
        "id": "kkJqcr3g7w0_"
      },
      "execution_count": null,
      "outputs": []
    },
    {
      "cell_type": "markdown",
      "source": [
        "음성파일 텍스트로 전환"
      ],
      "metadata": {
        "id": "nrvCdPMiE1B-"
      }
    },
    {
      "cell_type": "code",
      "source": [
        "asr_model.transcribe(['KsponSpeech_000001.wav'])"
      ],
      "metadata": {
        "id": "I2qGFgcCArOv"
      },
      "execution_count": null,
      "outputs": []
    },
    {
      "cell_type": "markdown",
      "source": [
        "많은 오디오 파일을 텍스트로 변환"
      ],
      "metadata": {
        "id": "O1lO9YjyA0qa"
      }
    },
    {
      "cell_type": "code",
      "source": [
        "python [NEMO_GIT_FOLDER]/examples/asr/transcribe_speech.py  pretrained_name=\"eesungkim/stt_kr_conformer_transducer_large\"  audio_dir=\"<DIRECTORY CONTAINING AUDIO FILES>\""
      ],
      "metadata": {
        "id": "yPTqUIomA2ZE"
      },
      "execution_count": null,
      "outputs": []
    }
  ]
}