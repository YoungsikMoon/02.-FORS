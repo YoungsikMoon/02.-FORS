{
  "nbformat": 4,
  "nbformat_minor": 0,
  "metadata": {
    "colab": {
      "provenance": [],
      "authorship_tag": "ABX9TyOzyi1covlztMCeLjqnXAHD",
      "include_colab_link": true
    },
    "kernelspec": {
      "name": "python3",
      "display_name": "Python 3"
    },
    "language_info": {
      "name": "python"
    }
  },
  "cells": [
    {
      "cell_type": "markdown",
      "metadata": {
        "id": "view-in-github",
        "colab_type": "text"
      },
      "source": [
        "<a href=\"https://colab.research.google.com/github/YoungsikMoon/FORS/blob/main/FORS_%EB%AC%B8%EC%98%81%EC%8B%9D.ipynb\" target=\"_parent\"><img src=\"https://colab.research.google.com/assets/colab-badge.svg\" alt=\"Open In Colab\"/></a>"
      ]
    },
    {
      "cell_type": "markdown",
      "source": [
        "# PCM 파일을 WAV로 변환하는 코드"
      ],
      "metadata": {
        "id": "BSPvRMB7zxNo"
      }
    },
    {
      "cell_type": "code",
      "execution_count": 3,
      "metadata": {
        "id": "3vnZltD4vWnc"
      },
      "outputs": [],
      "source": [
        "import numpy as np\n",
        "import librosa as lr\n",
        "import soundfile as sf\n",
        "\n",
        "target = \"/content/KsponSpeech_000001.pcm\" # 타깃 파일 경로\n",
        "destinationPath = \"/content/KsponSpeech_000001.wav\" #만들 파일 경로\n",
        "buf = None\n",
        "\n",
        "with open(target, 'rb') as tf:\n",
        "    buf = tf.read()\n",
        "    buf = buf+b'0' if len(buf)%2 else buf    # padding 0 (경우에 따라서 PCM 파일의 길이가 8bit[1byte]로 나누어 떨어지지 않는 경우가 있어 0으로 패딩값을 더해준다, 해당 처리를 하지 않는 경우 numpy나 librosa 라이브러리 사용 시 오류가 날 수 있다)\n",
        "\n",
        "pcm_data = np.frombuffer(buf, dtype='int16')\n",
        "wav_data = lr.util.buf_to_float(x=pcm_data, n_bytes=2)\n",
        "sf.write(destinationPath, wav_data, 16000, format='WAV', endian='LITTLE', subtype='PCM_16')"
      ]
    }
  ]
}